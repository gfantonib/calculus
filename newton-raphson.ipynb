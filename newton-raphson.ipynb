{
 "cells": [
  {
   "cell_type": "code",
   "execution_count": 593,
   "metadata": {},
   "outputs": [],
   "source": [
    "import math"
   ]
  },
  {
   "cell_type": "markdown",
   "metadata": {},
   "source": [
    "### differenciation to use in newton-raphson"
   ]
  },
  {
   "cell_type": "code",
   "execution_count": 594,
   "metadata": {},
   "outputs": [],
   "source": [
    "def differentiation(f, x: float, dx: float = 1e-10) -> float:\n",
    "    return (f(x + dx) - f(x)) / dx"
   ]
  },
  {
   "cell_type": "code",
   "execution_count": 595,
   "metadata": {},
   "outputs": [],
   "source": [
    "def find_maximorum_minimorum_points(vertices: list[list[str, float, float]]) -> list[list[str, float, float]]:\n",
    "\n",
    "\txmax = vertices[0][1]\n",
    "\tymax = vertices[0][2]\n",
    "\txmin = vertices[0][1]\n",
    "\tymin = vertices[0][2]\n",
    "\tfor type in vertices:\n",
    "\t\tif type[0] == 'max':\n",
    "\t\t\tif type[2] > ymax:\n",
    "\t\t\t\txmax = type[1]\n",
    "\t\t\t\tymax = type[2]\n",
    "\t\telif type[0] == 'min':\n",
    "\t\t\tif type[2] < ymin:\n",
    "\t\t\t\txmin = type[1]\n",
    "\t\t\t\tymin = type[2]\n",
    "\ti = 0\n",
    "\tfor type in vertices:\n",
    "\t\tif type[0] == 'max':\n",
    "\t\t\tif xmax == type[1] and ymax == type[2]:\n",
    "\t\t\t\tvertices[i][0] = \"maximorum\" \n",
    "\t\telif type[0] == 'min':\n",
    "\t\t\tif xmin == type[1] and ymin == type[2]:\n",
    "\t\t\t\tvertices[i][0] = \"minimorum\"\n",
    "\t\ti = i + 1\n",
    "\t\t\n",
    "\treturn vertices"
   ]
  },
  {
   "cell_type": "code",
   "execution_count": 596,
   "metadata": {},
   "outputs": [],
   "source": [
    "def find_max_min_points(f, a: float | int, \n",
    "                      b: float | int, \n",
    "                      dx: float = 1e-2) -> list[list[str, float, float]]:\n",
    "\n",
    "    \"\"\"\n",
    "    this function finds the maximum and minimum points of a function 'f' in the interval [a, b]\n",
    "\n",
    "    :param f: function to be analyzed\n",
    "    :param a: lower limit of range\n",
    "    :param b: upper limit of range\n",
    "    :param dx: counter width\n",
    "\n",
    "    :return: list of vertices\n",
    "    \"\"\"\n",
    "\n",
    "    vertices = []\n",
    "    while (x:=a) < b:\n",
    "        previous_sign = \"+\" if differentiation(f=f, x=x) > 0 else \"-\"\n",
    "        posterior_sign = \"+\" if differentiation(f=f, x=x + dx) > 0 else \"-\"\n",
    "\n",
    "        if previous_sign != posterior_sign:\n",
    "            if previous_sign == '+' and posterior_sign == '-':\n",
    "                type = \"max\"\n",
    "            else:\n",
    "                type = \"min\"\n",
    "            vertice = [type, x, f(x)]\n",
    "            vertices.append(vertice)\n",
    "\n",
    "        a += dx\n",
    "        \n",
    "    vertices = find_maximorum_minimorum_points(vertices)\n",
    "    \n",
    "    return vertices"
   ]
  },
  {
   "cell_type": "markdown",
   "metadata": {},
   "source": [
    "### newton-raphson"
   ]
  },
  {
   "cell_type": "code",
   "execution_count": 597,
   "metadata": {},
   "outputs": [],
   "source": [
    "def newton_raphson_core(f, f_diff, guess, precision):\n",
    "\tresult_list = [\"solution\", guess]\n",
    "\ti = 0\n",
    "\twhile i < 1000:\n",
    "\t\tsolution = guess - f(guess) / f_diff(guess)\n",
    "\t\t# print(round(solution, precision))\n",
    "\t\tif round(solution, precision) == round(guess, precision):\n",
    "\t\t\tresult_list[1] = round(solution, precision)\n",
    "\t\t\treturn result_list\n",
    "\t\tguess = solution\n",
    "\t\ti = i + 1\n",
    "\tresult_list[0] = \"no solution\"\n",
    "\treturn result_list"
   ]
  },
  {
   "cell_type": "code",
   "execution_count": 598,
   "metadata": {},
   "outputs": [],
   "source": [
    "def newton_raphson(f, f_diff, precision: int, a: int, b: int, dx: float) -> list:\n",
    "\t# The algorithm is supossed to return before \n",
    "\t# 1000 iterations (this is only a safe limit).\n",
    "\tmax_and_min_points_list = find_max_min_points(f, a, b, dx)\n",
    "\tprint(max_and_min_points_list)\n",
    "\tresult_list = []\n",
    "\tfor max_min in max_and_min_points_list:\n",
    "\t\tguess = max_min[1] - 0.1\n",
    "\t\tleft_solution_list = newton_raphson_core(f, f_diff, guess, precision)\n",
    "\t\tguess = max_min[1] + 0.1\n",
    "\t\tright_solution_list = newton_raphson_core(f, f_diff, guess, precision)\n",
    "\t\tresult_list.append(left_solution_list)\n",
    "\t\tresult_list.append(right_solution_list)\n",
    "\t\n",
    "\treturn result_list\n",
    "\t\t"
   ]
  },
  {
   "cell_type": "code",
   "execution_count": 603,
   "metadata": {},
   "outputs": [
    {
     "name": "stdout",
     "output_type": "stream",
     "text": [
      "[['maximorum', 0.7399999999998316, 0.4214329599999853]]\n",
      "[['solution', -0.0], ['solution', 0.0]]\n",
      "['solution', 1.0]\n"
     ]
    }
   ],
   "source": [
    "# f = lambda x: x**2 - 4\n",
    "# f_diff = lambda x: 2*x\n",
    "\n",
    "# f = lambda x: x**2 + 2*x\n",
    "# f_diff = lambda x: 2*x + 2\n",
    "\n",
    "# f = lambda x: x**2 + 1\n",
    "# f_diff = lambda x: 2*x\n",
    "\n",
    "# f = lambda x: 3*x**4 -2*x**3 - x**2 - 2\n",
    "# f_diff = lambda x: 12*x**3 -6*x**2 -2*x\n",
    "\n",
    "# f = lambda x: -x**5/2 + x**3 -x/3\n",
    "# f_diff = lambda x: (-5/2)*x**4 + x*x**2 - 1/3\n",
    "\n",
    "f = lambda x: 4*x**3 - 4*x**4\n",
    "f_diff = lambda x: 3*x**2 - 4*x**3\n",
    "\n",
    "precision = 2\n",
    "a = -10\n",
    "b = 10\n",
    "dx = 1e-2\n",
    "# if the program broke with \"ZeroDivisionError\" thats\n",
    "# because you are so lucky that you guessed the point \n",
    "# where the differenciation of f is 0.\n",
    "\n",
    "solution = newton_raphson(f, f_diff, precision, a, b, dx)\n",
    "print(solution)\n",
    "\n",
    "solution = newton_raphson_core(f, f_diff, 1, precision)\n",
    "print(solution)"
   ]
  }
 ],
 "metadata": {
  "kernelspec": {
   "display_name": "cpp",
   "language": "python",
   "name": "python3"
  },
  "language_info": {
   "codemirror_mode": {
    "name": "ipython",
    "version": 3
   },
   "file_extension": ".py",
   "mimetype": "text/x-python",
   "name": "python",
   "nbconvert_exporter": "python",
   "pygments_lexer": "ipython3",
   "version": "3.12.0"
  }
 },
 "nbformat": 4,
 "nbformat_minor": 2
}
