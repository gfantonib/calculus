{
 "cells": [
  {
   "cell_type": "code",
   "execution_count": 33,
   "metadata": {},
   "outputs": [],
   "source": [
    "import math"
   ]
  },
  {
   "cell_type": "code",
   "execution_count": 34,
   "metadata": {},
   "outputs": [],
   "source": [
    "def differentiation(f, x: float, dx: float = 1e-10) -> float:\n",
    "    return (f(x + dx) - f(x)) / dx"
   ]
  },
  {
   "cell_type": "code",
   "execution_count": 35,
   "metadata": {},
   "outputs": [],
   "source": [
    "def find_maximorum_minimorum_points(vertices: list[list[str, float, float]]) -> list[list[str, float, float]]:\n",
    "\n",
    "\txmax = vertices[0][1]\n",
    "\tymax = vertices[0][2]\n",
    "\txmin = vertices[0][1]\n",
    "\tymin = vertices[0][2]\n",
    "\tfor type in vertices:\n",
    "\t\tif type[0] == 'max':\n",
    "\t\t\tif type[2] > ymax:\n",
    "\t\t\t\txmax = type[1]\n",
    "\t\t\t\tymax = type[2]\n",
    "\t\telif type[0] == 'min':\n",
    "\t\t\tif type[2] < ymin:\n",
    "\t\t\t\txmin = type[1]\n",
    "\t\t\t\tymin = type[2]\n",
    "\ti = 0\n",
    "\tfor type in vertices:\n",
    "\t\tif type[0] == 'max':\n",
    "\t\t\tif xmax == type[1] and ymax == type[2]:\n",
    "\t\t\t\tvertices[i][0] = \"maximorum\" \n",
    "\t\telif type[0] == 'min':\n",
    "\t\t\tif xmin == type[1] and ymin == type[2]:\n",
    "\t\t\t\tvertices[i][0] = \"minimorum\"\n",
    "\t\ti = i + 1\n",
    "\t\t\n",
    "\treturn vertices"
   ]
  },
  {
   "cell_type": "code",
   "execution_count": 36,
   "metadata": {},
   "outputs": [],
   "source": [
    "def find_max_min_points(f, a: float | int, \n",
    "                      b: float | int, \n",
    "                      dx: float = 1e-2) -> list[list[str, float, float]]:\n",
    "\n",
    "    \"\"\"\n",
    "    this function finds the maximum and minimum points of a function 'f' in the interval [a, b]\n",
    "\n",
    "    :param f: function to be analyzed\n",
    "    :param a: lower limit of range\n",
    "    :param b: upper limit of range\n",
    "    :param dx: counter width\n",
    "\n",
    "    :return: list of vertices\n",
    "    \"\"\"\n",
    "\n",
    "    vertices = []\n",
    "    while (x:=a) < b:\n",
    "        previous_sign = \"+\" if differentiation(f=f, x=x) > 0 else \"-\"\n",
    "        posterior_sign = \"+\" if differentiation(f=f, x=x + dx) > 0 else \"-\"\n",
    "\n",
    "        if previous_sign != posterior_sign:\n",
    "            if previous_sign == '+' and posterior_sign == '-':\n",
    "                type = \"max\"\n",
    "            else:\n",
    "                type = \"min\"\n",
    "            vertice = [type, x, f(x)]\n",
    "            vertices.append(vertice)\n",
    "\n",
    "        a += dx\n",
    "        \n",
    "    vertices = find_maximorum_minimorum_points(vertices)\n",
    "    \n",
    "    return vertices"
   ]
  },
  {
   "cell_type": "markdown",
   "metadata": {},
   "source": [
    "### Usage:"
   ]
  },
  {
   "cell_type": "code",
   "execution_count": 38,
   "metadata": {},
   "outputs": [
    {
     "data": {
      "text/plain": [
       "[['max', -3.0800000000001475, -0.5201038139733347],\n",
       " ['minimorum', -1.6000000000001702, -1.0047146666666655],\n",
       " ['maximorum', 1.5899999999998322, 1.0047380873324996],\n",
       " ['min', 3.0699999999998098, 0.520128098589169]]"
      ]
     },
     "execution_count": 38,
     "metadata": {},
     "output_type": "execute_result"
    }
   ],
   "source": [
    "f = lambda x: x - x**3/math.factorial(3) + x**5/math.factorial(5)\n",
    "# f = lambda x: -x**2\n",
    "a = -10\n",
    "b = 10\n",
    "dx = 1e-2\n",
    "\n",
    "find_max_min_points(f, a, b, dx)"
   ]
  }
 ],
 "metadata": {
  "kernelspec": {
   "display_name": "cpp",
   "language": "python",
   "name": "python3"
  },
  "language_info": {
   "codemirror_mode": {
    "name": "ipython",
    "version": 3
   },
   "file_extension": ".py",
   "mimetype": "text/x-python",
   "name": "python",
   "nbconvert_exporter": "python",
   "pygments_lexer": "ipython3",
   "version": "3.12.0"
  }
 },
 "nbformat": 4,
 "nbformat_minor": 2
}
