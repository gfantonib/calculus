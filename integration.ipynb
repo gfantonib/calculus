{
 "cells": [
  {
   "cell_type": "code",
   "execution_count": 22,
   "metadata": {},
   "outputs": [],
   "source": [
    "import math"
   ]
  },
  {
   "cell_type": "code",
   "execution_count": 23,
   "metadata": {},
   "outputs": [],
   "source": [
    "def integration(f, a: float, b: float, dx: float) -> float:\n",
    "    \"\"\"\n",
    "\tthis function calculates the integral of a function 'f' in the interval [a, b] with trapezoids of width 'dx'\n",
    "\n",
    " \t:param f: function to be integrated\n",
    " \t:param a: lower limit of integration range\n",
    " \t:param b: upper limit of integration range\n",
    " \t:param dx: width of trapezoids (Simpson method)\n",
    "\n",
    " \t:return: value of the integral (area under the curve)\n",
    "    \"\"\"\n",
    "    xprev = a\n",
    "    xpost = xprev + dx\n",
    "    area = 0\n",
    "    while xpost <= b:\n",
    "        fa = f(xprev)\n",
    "        fp = f(xpost)\n",
    "        area = area + (fa + fp) / 2 * dx\n",
    "\n",
    "        xprev = xpost\n",
    "        xpost = xpost + dx\n",
    "    \n",
    "    return area"
   ]
  },
  {
   "cell_type": "markdown",
   "metadata": {},
   "source": [
    "### Usage:"
   ]
  },
  {
   "cell_type": "code",
   "execution_count": 29,
   "metadata": {},
   "outputs": [
    {
     "name": "stdout",
     "output_type": "stream",
     "text": [
      "-1.3906609197533726e-10\n"
     ]
    }
   ],
   "source": [
    "f = lambda x: x - x**3/math.factorial(3) + x**5/math.factorial(5) \n",
    "a = -10\n",
    "b = 10\n",
    "dx = 1e-3\n",
    "\n",
    "area = integration(f, a, b, dx)\n",
    "\n",
    "print(area)"
   ]
  }
 ],
 "metadata": {
  "kernelspec": {
   "display_name": "cpp",
   "language": "python",
   "name": "python3"
  },
  "language_info": {
   "codemirror_mode": {
    "name": "ipython",
    "version": 3
   },
   "file_extension": ".py",
   "mimetype": "text/x-python",
   "name": "python",
   "nbconvert_exporter": "python",
   "pygments_lexer": "ipython3",
   "version": "3.12.0"
  }
 },
 "nbformat": 4,
 "nbformat_minor": 2
}
